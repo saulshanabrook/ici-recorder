{
 "cells": [
  {
   "cell_type": "code",
   "execution_count": 1,
   "metadata": {
    "collapsed": false
   },
   "outputs": [],
   "source": [
    "(require 'cemerick.pomegranate)"
   ]
  },
  {
   "cell_type": "code",
   "execution_count": 2,
   "metadata": {
    "collapsed": false
   },
   "outputs": [
    {
     "data": {
      "text/plain": [
       "{[org.codehaus.jackson/jackson-mapper-asl \"1.9.13\"] nil, [tigris \"0.1.1\"] nil, [org.apache.avro/avro \"1.7.7\"] #{[org.codehaus.jackson/jackson-mapper-asl \"1.9.13\"] [org.slf4j/slf4j-api \"1.6.4\"] [org.xerial.snappy/snappy-java \"1.0.5\"] [org.apache.commons/commons-compress \"1.4.1\"] [com.thoughtworks.paranamer/paranamer \"2.3\"] [org.codehaus.jackson/jackson-core-asl \"1.9.13\"]}, [com.damballa/abracad \"0.4.13\"] #{[org.apache.avro/avro \"1.7.7\"] [cheshire \"5.3.1\"] [org.clojure/clojure \"1.7.0\"]}, [com.fasterxml.jackson.dataformat/jackson-dataformat-smile \"2.3.1\"] nil, [org.slf4j/slf4j-api \"1.6.4\"] nil, [com.fasterxml.jackson.core/jackson-core \"2.3.1\"] nil, [cheshire \"5.3.1\"] #{[tigris \"0.1.1\"] [com.fasterxml.jackson.dataformat/jackson-dataformat-smile \"2.3.1\"] [com.fasterxml.jackson.core/jackson-core \"2.3.1\"]}, [org.xerial.snappy/snappy-java \"1.0.5\"] nil, [org.tukaani/xz \"1.0\"] nil, [org.clojure/clojure \"1.7.0\"] nil, [org.apache.commons/commons-compress \"1.4.1\"] #{[org.tukaani/xz \"1.0\"]}, [com.thoughtworks.paranamer/paranamer \"2.3\"] nil, [org.codehaus.jackson/jackson-core-asl \"1.9.13\"] nil}"
      ]
     },
     "execution_count": 2,
     "metadata": {},
     "output_type": "execute_result"
    }
   ],
   "source": [
    "(cemerick.pomegranate/add-dependencies\n",
    "    :coordinates '[[com.damballa/abracad \"0.4.13\"]]\n",
    "    :repositories (merge cemerick.pomegranate.aether/maven-central\n",
    "                         {\"clojars\" \"http://clojars.org/repo\"}))"
   ]
  },
  {
   "cell_type": "code",
   "execution_count": 3,
   "metadata": {
    "collapsed": false
   },
   "outputs": [],
   "source": [
    "(require '[abracad.avro :as avro])"
   ]
  },
  {
   "cell_type": "code",
   "execution_count": 4,
   "metadata": {
    "collapsed": false
   },
   "outputs": [
    {
     "name": "stdout",
     "output_type": "stream",
     "text": [
      "FileNotFoundException Could not locate clojush__init.class or clojush.clj on classpath.  clojure.lang.RT.load (RT.java:456)\n"
     ]
    },
    {
     "ename": "class java.io.FileNotFoundException",
     "evalue": "",
     "output_type": "error",
     "traceback": [
      "    RT.java:   456 clojure.lang.RT/load                 ",
      "   core.clj:  5893 clojure.core$load$fn__5677/invoke    ",
      "   core.clj:  5892 clojure.core$load/invokeStatic       ",
      "   core.clj:  5876 clojure.core$load/doInvoke           ",
      "RestFn.java:   408 clojure.lang.RestFn/invoke           ",
      "   core.clj:  5697 clojure.core$load_one/invokeStatic   ",
      "   core.clj:  5692 clojure.core$load_one/invoke         ",
      "   core.clj:  5737 clojure.core$load_lib$fn__5626/invoke",
      "   core.clj:  5736 clojure.core$load_lib/invokeStatic   ",
      "   core.clj:  5717 clojure.core$load_lib/doInvoke       ",
      "RestFn.java:   142 clojure.lang.RestFn/applyTo          ",
      "   core.clj:   648 clojure.core$apply/invokeStatic      ",
      "   core.clj:  5774 clojure.core$load_libs/invokeStatic  ",
      "   core.clj:  5758 clojure.core$load_libs/doInvoke      ",
      "RestFn.java:   137 clojure.lang.RestFn/applyTo          ",
      "   core.clj:   648 clojure.core$apply/invokeStatic      ",
      "   core.clj:  5796 clojure.core$require/invokeStatic    ",
      "RestFn.java:   408 clojure.lang.RestFn/invoke           ",
      "         []:     1 user$eval1104/invokeStatic           "
     ]
    }
   ],
   "source": [
    "(require './clojush)"
   ]
  },
  {
   "cell_type": "code",
   "execution_count": null,
   "metadata": {
    "collapsed": true
   },
   "outputs": [],
   "source": []
  }
 ],
 "metadata": {
  "kernelspec": {
   "display_name": "Clojure",
   "language": "clojure",
   "name": "clojure"
  },
  "language_info": {
   "file_extension": ".clj",
   "mimetype": "text/x-clojure",
   "name": "clojure",
   "version": "1.8.0"
  }
 },
 "nbformat": 4,
 "nbformat_minor": 1
}
