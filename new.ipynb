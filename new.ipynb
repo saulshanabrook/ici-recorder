{
 "cells": [
  {
   "cell_type": "code",
   "execution_count": 1,
   "metadata": {
    "ExecuteTime": {
     "end_time": "2017-04-25T13:35:08.458042Z",
     "start_time": "2017-04-25T13:35:08.097754Z"
    },
    "collapsed": true
   },
   "outputs": [],
   "source": [
    "import pyspark.sql\n",
    "import json\n",
    "import os\n",
    "import pathlib\n",
    "from pyspark.sql.types import *\n"
   ]
  },
  {
   "cell_type": "markdown",
   "metadata": {},
   "source": [
    "## Schemas"
   ]
  },
  {
   "cell_type": "code",
   "execution_count": 2,
   "metadata": {
    "ExecuteTime": {
     "end_time": "2017-04-25T13:35:08.473010Z",
     "start_time": "2017-04-25T13:35:08.459460Z"
    },
    "collapsed": true
   },
   "outputs": [],
   "source": [
    "TimeType = LongType\n",
    "ConfigType = lambda: StructType([\n",
    "    StructField('problem-file', StringType(), False),\n",
    "    StructField('argmap', MapType(StringType(), StringType()), False),\n",
    "    StructField('initialization-ms', TimeType()),\n",
    "    StructField('registered-instructions', ArrayType(StringType())),\n",
    "    StructField('version-number', StringType()),\n",
    "    StructField('git-hash', StringType()),\n",
    "    StructField('uuid', StringType(), False),\n",
    "])"
   ]
  },
  {
   "cell_type": "code",
   "execution_count": 3,
   "metadata": {
    "ExecuteTime": {
     "end_time": "2017-04-25T13:35:08.788712Z",
     "start_time": "2017-04-25T13:35:08.590457Z"
    }
   },
   "outputs": [],
   "source": [
    "GenomeType = lambda: StructType([\n",
    "    StructField('instruction', StringType()),\n",
    "    StructField('random-insertion', BooleanType()),\n",
    "    StructField('silent', BooleanType()),\n",
    "    StructField('close', IntegerType()),\n",
    "    StructField('parent-uuid', StringType()),\n",
    "])\n",
    "ErrorType = DoubleType\n",
    "ErrorsType = lambda: ArrayType(ErrorType())\n",
    "IndividualType = lambda: StructType([\n",
    "    StructField('genome', ArrayType(GenomeType())),\n",
    "    StructField('program', StringType()),\n",
    "    StructField('grain-size', IntegerType()),\n",
    "    StructField('errors', ErrorsType()),\n",
    "    StructField('total-error', ErrorType()),\n",
    "    StructField('normalized-error', ErrorType()),\n",
    "    StructField('meta-errors', ErrorsType()),\n",
    "    StructField('history', ArrayType(ErrorType())),\n",
    "    StructField('uuid', StringType()),\n",
    "    StructField('parent-uuids', ArrayType(StringType())),\n",
    "    StructField('genetic-operators', StringType()),\n",
    "    StructField('is-random-replacement', BooleanType()),\n",
    "    StructField('age', DoubleType()),\n",
    "    StructField('weighted-error', ErrorType()),\n",
    "\n",
    "])\n",
    "PercentType = lambda: DecimalType(precision=3, scale=2)\n",
    "BestType = lambda: StructType([\n",
    "    StructField('individual', IndividualType()),\n",
    "    StructField('mean-error', DoubleType()),\n",
    "    StructField('genome-size', IntegerType()),\n",
    "    StructField('program-size', IntegerType()),\n",
    "    StructField('percent-parens', PercentType()),\n",
    "    StructField('test-errors', ErrorsType()),\n",
    "    StructField('mean-test-error', DoubleType()),\n",
    "])\n",
    "# PopulationType = lambda: StructType([\n",
    "#     StructField('mean-total-error', DoubleType()),\n",
    "#     StructField('median-total-error', DoubleType()),\n",
    "#     StructField('mean-genome-size', DoubleType()),\n",
    "#     StructField('mean-program-size', DoubleType()),\n",
    "# ]) \n",
    "generation_schema = pyspark.sql.types.StructType([\n",
    "    StructField('config', ConfigType(), True),\n",
    "    StructField('config-uuid', StringType()),\n",
    "    StructField('outcome', StringType(), False),\n",
    "    StructField('epsilons', ErrorType()),\n",
    "    StructField('population', ArrayType(IndividualType()), False),\n",
    "    StructField('index', IntegerType()),\n",
    "    StructField('best', BestType())\n",
    "])"
   ]
  },
  {
   "cell_type": "markdown",
   "metadata": {},
   "source": [
    "## Spark"
   ]
  },
  {
   "cell_type": "code",
   "execution_count": 4,
   "metadata": {
    "collapsed": true
   },
   "outputs": [],
   "source": [
    "spark = pyspark.sql.SparkSession.builder \\\n",
    "     .master(\"local\") \\\n",
    "     .config(\"spark.driver.memory\", \"8G\") \\\n",
    "     .getOrCreate()\n",
    "#      .config(\"spark.executor.memory\", \"4G\") \\\n"
   ]
  },
  {
   "cell_type": "code",
   "execution_count": 5,
   "metadata": {
    "collapsed": true
   },
   "outputs": [],
   "source": [
    "# spark.sparkContext.setLogLevel(\"ALL\")"
   ]
  },
  {
   "cell_type": "code",
   "execution_count": 7,
   "metadata": {
    "ExecuteTime": {
     "end_time": "2017-04-25T13:37:55.186863Z",
     "start_time": "2017-04-25T13:37:55.150530Z"
    },
    "collapsed": true
   },
   "outputs": [],
   "source": [
    "# configs_host, configs_port = os.environ['CONFIGS_HOST'].split(\":\")\n",
    "# generations_host, generations_port = os.environ['GENERATIONS_HOST'].split(\":\")\n",
    "\n",
    "# configs_str = spark \\\n",
    "#     .readStream \\\n",
    "#     .format(\"socket\") \\\n",
    "#     .option(\"host\", configs_host) \\\n",
    "#     .option(\"port\", int(configs_port)) \\\n",
    "#     .load()\n",
    "\n",
    "# generations_str = spark \\\n",
    "#     .readStream \\\n",
    "#     .format(\"socket\") \\\n",
    "#     .option(\"host\", generations_host) \\\n",
    "#     .option(\"port\", int(generations_port)) \\\n",
    "#     .load()"
   ]
  },
  {
   "cell_type": "code",
   "execution_count": 6,
   "metadata": {
    "collapsed": true
   },
   "outputs": [],
   "source": [
    "# configs_str_query_console = configs_str \\\n",
    "#     .writeStream \\\n",
    "#     .format(\"console\") \\\n",
    "#     .start()"
   ]
  },
  {
   "cell_type": "code",
   "execution_count": 21,
   "metadata": {
    "collapsed": true
   },
   "outputs": [],
   "source": [
    "# generations_str_query_console = generations_str \\\n",
    "#     .writeStream \\\n",
    "#     .format(\"console\") \\\n",
    "#     .start()"
   ]
  },
  {
   "cell_type": "code",
   "execution_count": 8,
   "metadata": {
    "ExecuteTime": {
     "end_time": "2017-04-25T13:37:59.942350Z",
     "start_time": "2017-04-25T13:37:59.815646Z"
    },
    "collapsed": true
   },
   "outputs": [],
   "source": [
    "# configs = configs_str\\\n",
    "#     .select(\n",
    "#         pyspark.sql.functions.from_json(\n",
    "#             'value',\n",
    "#             config_schema\n",
    "#         ).alias('json')\n",
    "#     ) \\\n",
    "#     .select(\"json.*\")\n",
    "\n",
    "# generations = generations_str.select(\n",
    "#     pyspark.sql.functions.from_json(\n",
    "#         'value',\n",
    "#         generation_schema,\n",
    "#         options={\n",
    "#             \"columnNameOfCorruptRecord\": \"error\"\n",
    "#         }\n",
    "#     ).alias('json')\n",
    "# ).select(\"json.*\")"
   ]
  },
  {
   "cell_type": "code",
   "execution_count": 7,
   "metadata": {
    "collapsed": true
   },
   "outputs": [],
   "source": [
    "input_folder = pathlib.Path(os.environ['INPUT_FOLDER'])"
   ]
  },
  {
   "cell_type": "code",
   "execution_count": 8,
   "metadata": {
    "collapsed": true
   },
   "outputs": [],
   "source": [
    "generationsStream = spark \\\n",
    "    .readStream \\\n",
    "    .schema(generation_schema) \\\n",
    "    .json(str(input_folder), mode=\"DROPMALFORMED\")"
   ]
  },
  {
   "cell_type": "code",
   "execution_count": 10,
   "metadata": {
    "ExecuteTime": {
     "end_time": "2017-04-25T13:38:00.146335Z",
     "start_time": "2017-04-25T13:38:00.142919Z"
    },
    "collapsed": true
   },
   "outputs": [],
   "source": [
    "output_folder = pathlib.Path(os.environ['OUTPUT_FOLDER'])"
   ]
  },
  {
   "cell_type": "code",
   "execution_count": 11,
   "metadata": {
    "ExecuteTime": {
     "end_time": "2017-04-25T13:38:00.772189Z",
     "start_time": "2017-04-25T13:38:00.766792Z"
    },
    "collapsed": true
   },
   "outputs": [],
   "source": [
    "output_generations_folder = output_folder / \"generations\"\n",
    "\n",
    "output_generations_checkpoint = output_folder / \"generations_checkpoint\""
   ]
  },
  {
   "cell_type": "code",
   "execution_count": 10,
   "metadata": {
    "ExecuteTime": {
     "end_time": "2017-04-25T13:38:02.451885Z",
     "start_time": "2017-04-25T13:38:02.399167Z"
    },
    "collapsed": true
   },
   "outputs": [],
   "source": [
    "# configs_query_console = configs \\\n",
    "#     .writeStream \\\n",
    "#     .trigger(processingTime=\"10 seconds\") \\\n",
    "#     .format(\"console\") \\\n",
    "#     .start()"
   ]
  },
  {
   "cell_type": "code",
   "execution_count": 11,
   "metadata": {
    "ExecuteTime": {
     "end_time": "2017-04-25T13:36:50.918505Z",
     "start_time": "2017-04-25T13:36:50.871418Z"
    },
    "collapsed": true
   },
   "outputs": [],
   "source": [
    "# generations_query_console = generations \\\n",
    "#     .writeStream \\\n",
    "#     .trigger(processingTime=\"10 seconds\") \\\n",
    "#     .format(\"console\") \\\n",
    "#     .start()"
   ]
  },
  {
   "cell_type": "code",
   "execution_count": 13,
   "metadata": {
    "ExecuteTime": {
     "end_time": "2017-04-25T13:28:46.013643Z",
     "start_time": "2017-04-25T13:28:45.928425Z"
    }
   },
   "outputs": [],
   "source": [
    "# configs_query = configs \\\n",
    "#     .writeStream \\\n",
    "#     .start(\n",
    "#         path=str(configs_uri),\n",
    "#         format=\"parquet\",\n",
    "# #         partitionBy=[\"label\"],\n",
    "#         checkpointLocation=configs_checkpoint_uri,\n",
    "#         queryName='configs'\n",
    "#     )\n",
    "\n",
    "generations_query = generationsStream \\\n",
    "    .writeStream \\\n",
    "    .start(\n",
    "        path=str(output_generations_folder),\n",
    "        format=\"parquet\",\n",
    "#         partitionBy=[\"config-uuid\", \"outcome\"],\n",
    "        checkpointLocation=str(output_generations_checkpoint),\n",
    "        queryName='generations'\n",
    "    )    "
   ]
  },
  {
   "cell_type": "markdown",
   "metadata": {
    "heading_collapsed": true
   },
   "source": [
    "## Other Stuff"
   ]
  },
  {
   "cell_type": "code",
   "execution_count": 28,
   "metadata": {
    "collapsed": true
   },
   "outputs": [],
   "source": [
    "generations = spark.read.parquet(str(output_generations_folder))"
   ]
  },
  {
   "cell_type": "code",
   "execution_count": 31,
   "metadata": {
    "ExecuteTime": {
     "end_time": "2017-04-24T22:32:18.791474Z",
     "start_time": "2017-04-24T22:30:41.552625Z"
    },
    "hidden": true
   },
   "outputs": [
    {
     "data": {
      "text/html": [
       "<div>\n",
       "<table border=\"1\" class=\"dataframe\">\n",
       "  <thead>\n",
       "    <tr style=\"text-align: right;\">\n",
       "      <th></th>\n",
       "      <th>config-uuid</th>\n",
       "      <th>label</th>\n",
       "      <th>problem-file</th>\n",
       "      <th>index</th>\n",
       "      <th>age-mediated-parent-selection</th>\n",
       "      <th>age-combining-function</th>\n",
       "      <th>genetic-operator-probabilities</th>\n",
       "      <th>age-mediated-parent-selection</th>\n",
       "      <th>mean-error</th>\n",
       "      <th>mean-test-error</th>\n",
       "    </tr>\n",
       "  </thead>\n",
       "  <tbody>\n",
       "    <tr>\n",
       "      <th>0</th>\n",
       "      <td>99624b47-7f6b-4e53-b271-9aacb20ad8bb</td>\n",
       "      <td>None</td>\n",
       "      <td>None</td>\n",
       "      <td>0</td>\n",
       "      <td>None</td>\n",
       "      <td>None</td>\n",
       "      <td>None</td>\n",
       "      <td>None</td>\n",
       "      <td>4.835</td>\n",
       "      <td>5.1145</td>\n",
       "    </tr>\n",
       "    <tr>\n",
       "      <th>1</th>\n",
       "      <td>99624b47-7f6b-4e53-b271-9aacb20ad8bb</td>\n",
       "      <td>None</td>\n",
       "      <td>None</td>\n",
       "      <td>2</td>\n",
       "      <td>None</td>\n",
       "      <td>None</td>\n",
       "      <td>None</td>\n",
       "      <td>None</td>\n",
       "      <td>3.745</td>\n",
       "      <td>3.1325</td>\n",
       "    </tr>\n",
       "    <tr>\n",
       "      <th>2</th>\n",
       "      <td>99624b47-7f6b-4e53-b271-9aacb20ad8bb</td>\n",
       "      <td>None</td>\n",
       "      <td>None</td>\n",
       "      <td>1</td>\n",
       "      <td>None</td>\n",
       "      <td>None</td>\n",
       "      <td>None</td>\n",
       "      <td>None</td>\n",
       "      <td>3.745</td>\n",
       "      <td>3.1325</td>\n",
       "    </tr>\n",
       "    <tr>\n",
       "      <th>3</th>\n",
       "      <td>9916a404-f399-46f7-a8cc-e4d97f49508d</td>\n",
       "      <td>None</td>\n",
       "      <td>clojush.problems.software.replace-space-with-n...</td>\n",
       "      <td>0</td>\n",
       "      <td>false</td>\n",
       "      <td>average</td>\n",
       "      <td>{\"alternation\":0.2,\"uniform-mutation\":0.2,\"uni...</td>\n",
       "      <td>false</td>\n",
       "      <td>4.930</td>\n",
       "      <td>5.0150</td>\n",
       "    </tr>\n",
       "    <tr>\n",
       "      <th>4</th>\n",
       "      <td>9916a404-f399-46f7-a8cc-e4d97f49508d</td>\n",
       "      <td>None</td>\n",
       "      <td>clojush.problems.software.replace-space-with-n...</td>\n",
       "      <td>1</td>\n",
       "      <td>false</td>\n",
       "      <td>average</td>\n",
       "      <td>{\"alternation\":0.2,\"uniform-mutation\":0.2,\"uni...</td>\n",
       "      <td>false</td>\n",
       "      <td>3.980</td>\n",
       "      <td>3.2340</td>\n",
       "    </tr>\n",
       "    <tr>\n",
       "      <th>5</th>\n",
       "      <td>99624b47-7f6b-4e53-b271-9aacb20ad8bb</td>\n",
       "      <td>None</td>\n",
       "      <td>None</td>\n",
       "      <td>4</td>\n",
       "      <td>None</td>\n",
       "      <td>None</td>\n",
       "      <td>None</td>\n",
       "      <td>None</td>\n",
       "      <td>2.255</td>\n",
       "      <td>1.9590</td>\n",
       "    </tr>\n",
       "    <tr>\n",
       "      <th>6</th>\n",
       "      <td>99624b47-7f6b-4e53-b271-9aacb20ad8bb</td>\n",
       "      <td>None</td>\n",
       "      <td>None</td>\n",
       "      <td>3</td>\n",
       "      <td>None</td>\n",
       "      <td>None</td>\n",
       "      <td>None</td>\n",
       "      <td>None</td>\n",
       "      <td>2.560</td>\n",
       "      <td>2.2570</td>\n",
       "    </tr>\n",
       "  </tbody>\n",
       "</table>\n",
       "</div>"
      ],
      "text/plain": [
       "                            config-uuid label  \\\n",
       "0  99624b47-7f6b-4e53-b271-9aacb20ad8bb  None   \n",
       "1  99624b47-7f6b-4e53-b271-9aacb20ad8bb  None   \n",
       "2  99624b47-7f6b-4e53-b271-9aacb20ad8bb  None   \n",
       "3  9916a404-f399-46f7-a8cc-e4d97f49508d  None   \n",
       "4  9916a404-f399-46f7-a8cc-e4d97f49508d  None   \n",
       "5  99624b47-7f6b-4e53-b271-9aacb20ad8bb  None   \n",
       "6  99624b47-7f6b-4e53-b271-9aacb20ad8bb  None   \n",
       "\n",
       "                                        problem-file  index  \\\n",
       "0                                               None      0   \n",
       "1                                               None      2   \n",
       "2                                               None      1   \n",
       "3  clojush.problems.software.replace-space-with-n...      0   \n",
       "4  clojush.problems.software.replace-space-with-n...      1   \n",
       "5                                               None      4   \n",
       "6                                               None      3   \n",
       "\n",
       "  age-mediated-parent-selection age-combining-function  \\\n",
       "0                          None                   None   \n",
       "1                          None                   None   \n",
       "2                          None                   None   \n",
       "3                         false                average   \n",
       "4                         false                average   \n",
       "5                          None                   None   \n",
       "6                          None                   None   \n",
       "\n",
       "                      genetic-operator-probabilities  \\\n",
       "0                                               None   \n",
       "1                                               None   \n",
       "2                                               None   \n",
       "3  {\"alternation\":0.2,\"uniform-mutation\":0.2,\"uni...   \n",
       "4  {\"alternation\":0.2,\"uniform-mutation\":0.2,\"uni...   \n",
       "5                                               None   \n",
       "6                                               None   \n",
       "\n",
       "  age-mediated-parent-selection  mean-error  mean-test-error  \n",
       "0                          None       4.835           5.1145  \n",
       "1                          None       3.745           3.1325  \n",
       "2                          None       3.745           3.1325  \n",
       "3                         false       4.930           5.0150  \n",
       "4                         false       3.980           3.2340  \n",
       "5                          None       2.255           1.9590  \n",
       "6                          None       2.560           2.2570  "
      ]
     },
     "execution_count": 31,
     "metadata": {},
     "output_type": "execute_result"
    }
   ],
   "source": [
    "generations \\\n",
    "    .select(\n",
    "        \"config-uuid\",\n",
    "        \"config.argmap.label\",\n",
    "        \"config.problem-file\",\n",
    "        \"index\",\n",
    "        \"config.argmap.age-mediated-parent-selection\",\n",
    "        \"config.argmap.age-combining-function\",\n",
    "        \"config.argmap.genetic-operator-probabilities\",\n",
    "        \"config.argmap.age-mediated-parent-selection\",\n",
    "        \"best.mean-error\",\n",
    "        \"best.mean-test-error\"\n",
    "#         minimum_mean_udf(\"population.errors\").alias(\"best-fitness\")\n",
    "    ).toPandas()"
   ]
  },
  {
   "cell_type": "code",
   "execution_count": null,
   "metadata": {
    "collapsed": true
   },
   "outputs": [],
   "source": []
  }
 ],
 "metadata": {
  "kernelspec": {
   "display_name": "Python 3",
   "language": "python",
   "name": "python3"
  },
  "language_info": {
   "codemirror_mode": {
    "name": "ipython",
    "version": 3
   },
   "file_extension": ".py",
   "mimetype": "text/x-python",
   "name": "python",
   "nbconvert_exporter": "python",
   "pygments_lexer": "ipython3",
   "version": "3.5.3"
  }
 },
 "nbformat": 4,
 "nbformat_minor": 2
}
