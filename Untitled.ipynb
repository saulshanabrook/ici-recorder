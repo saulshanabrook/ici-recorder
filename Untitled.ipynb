{
 "cells": [
  {
   "cell_type": "code",
   "execution_count": 1,
   "metadata": {
    "collapsed": false
   },
   "outputs": [],
   "source": [
    "(require 'cemerick.pomegranate)"
   ]
  },
  {
   "cell_type": "code",
   "execution_count": 11,
   "metadata": {
    "collapsed": false
   },
   "outputs": [
    {
     "data": {
      "text/plain": [
       "{[org.codehaus.jackson/jackson-mapper-asl \"1.9.13\"] nil, [tigris \"0.1.1\"] nil, [org.apache.avro/avro \"1.7.7\"] #{[org.codehaus.jackson/jackson-mapper-asl \"1.9.13\"] [org.slf4j/slf4j-api \"1.6.4\"] [org.xerial.snappy/snappy-java \"1.0.5\"] [org.apache.commons/commons-compress \"1.4.1\"] [com.thoughtworks.paranamer/paranamer \"2.3\"] [org.codehaus.jackson/jackson-core-asl \"1.9.13\"]}, [com.damballa/abracad \"0.4.13\"] #{[org.apache.avro/avro \"1.7.7\"] [cheshire \"5.3.1\"]}, [com.fasterxml.jackson.dataformat/jackson-dataformat-smile \"2.3.1\"] nil, [org.slf4j/slf4j-api \"1.6.4\"] nil, [com.fasterxml.jackson.core/jackson-core \"2.3.1\"] nil, [cheshire \"5.3.1\"] #{[tigris \"0.1.1\"] [com.fasterxml.jackson.dataformat/jackson-dataformat-smile \"2.3.1\"] [com.fasterxml.jackson.core/jackson-core \"2.3.1\"]}, [org.xerial.snappy/snappy-java \"1.0.5\"] nil, [org.tukaani/xz \"1.0\"] nil, [org.clojure/clojure \"1.9.0-alpha14\"] nil, [org.apache.commons/commons-compress \"1.4.1\"] #{[org.tukaani/xz \"1.0\"]}, [com.thoughtworks.paranamer/paranamer \"2.3\"] nil, [org.codehaus.jackson/jackson-core-asl \"1.9.13\"] nil}"
      ]
     },
     "execution_count": 11,
     "metadata": {},
     "output_type": "execute_result"
    }
   ],
   "source": [
    "(cemerick.pomegranate/add-dependencies\n",
    "    :coordinates '[[com.damballa/abracad \"0.4.13\"]\n",
    "                   [org.clojure/clojure \"1.9.0-alpha14\"]]\n",
    "    :repositories (merge cemerick.pomegranate.aether/maven-central\n",
    "                         {\"clojars\" \"http://clojars.org/repo\"}))"
   ]
  },
  {
   "cell_type": "code",
   "execution_count": 12,
   "metadata": {
    "collapsed": true
   },
   "outputs": [],
   "source": [
    "(cemerick.pomegranate/add-classpath \"/home/jovyan/work/src\")"
   ]
  },
  {
   "cell_type": "code",
   "execution_count": 12,
   "metadata": {
    "collapsed": false
   },
   "outputs": [
    {
     "name": "stdout",
     "output_type": "stream",
     "text": [
      "CompilerException java.lang.Exception: Unable to resolve spec: :ici.clojush/individual, compiling:(clojush.clj:29:1) \n"
     ]
    },
    {
     "ename": "class clojure.lang.Compiler$CompilerException",
     "evalue": "",
     "output_type": "error",
     "traceback": [
      "spec.clj:   118 clojure.spec$the_spec/invokeStatic ",
      "spec.clj:   853 clojure.spec$spec_impl/invokeStatic",
      "spec.clj:   316 clojure.spec$def_impl/invokeStatic ",
      "spec.clj:   312 clojure.spec$def_impl/invoke       ",
      "AFn.java:   160 clojure.lang.AFn/applyToHelper     ",
      "AFn.java:   144 clojure.lang.AFn/applyTo           "
     ]
    }
   ],
   "source": [
    "(require '[abracad.avro :as avro])\n",
    "(require 'ici.clojush)"
   ]
  }
 ],
 "metadata": {
  "kernelspec": {
   "display_name": "Clojure",
   "language": "clojure",
   "name": "clojure"
  },
  "language_info": {
   "file_extension": ".clj",
   "mimetype": "text/x-clojure",
   "name": "clojure",
   "version": "1.8.0"
  }
 },
 "nbformat": 4,
 "nbformat_minor": 1
}
