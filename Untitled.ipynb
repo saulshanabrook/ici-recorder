{
 "cells": [
  {
   "cell_type": "code",
   "execution_count": 1,
   "metadata": {
    "collapsed": false
   },
   "outputs": [
    {
     "name": "stdout",
     "output_type": "stream",
     "text": [
      "Fetching package metadata ...........\n",
      "Solving package specifications: ..........\n",
      "\n",
      "Package plan for installation in environment /opt/conda:\n",
      "\n",
      "The following packages will be downloaded:\n",
      "\n",
      "    package                    |            build\n",
      "    ---------------------------|-----------------\n",
      "    jemalloc-4.4.0             |                0         2.3 MB  conda-forge\n",
      "    arrow-cpp-0.2.post         |                0         8.9 MB  conda-forge\n",
      "    parquet-cpp-1.0.0          |                0        12.8 MB  conda-forge\n",
      "    numpy-1.11.2               |py35_blas_openblas_201         7.8 MB  conda-forge\n",
      "    numexpr-2.6.2              |      np111py35_0         996 KB  conda-forge\n",
      "    pandas-0.19.2              |      np111py35_1        20.0 MB  conda-forge\n",
      "    scipy-0.18.1               |np111py35_blas_openblas_200        32.4 MB  conda-forge\n",
      "    pyarrow-0.2.post           |      np111py35_0         3.9 MB  conda-forge\n",
      "    scikit-learn-0.18          |np111py35_blas_openblas_202        11.7 MB  conda-forge\n",
      "    ------------------------------------------------------------\n",
      "                                           Total:       100.7 MB\n",
      "\n",
      "The following NEW packages will be INSTALLED:\n",
      "\n",
      "    arrow-cpp:    0.2.post-0                         conda-forge\n",
      "    jemalloc:     4.4.0-0                            conda-forge\n",
      "    parquet-cpp:  1.0.0-0                            conda-forge\n",
      "    pyarrow:      0.2.post-np111py35_0               conda-forge\n",
      "\n",
      "The following packages will be UPDATED:\n",
      "\n",
      "    numexpr:      2.6.1-np110py35_0                  conda-forge --> 2.6.2-np111py35_0                  conda-forge\n",
      "    numpy:        1.10.4-py35_blas_openblas_204      conda-forge [blas_openblas] --> 1.11.2-py35_blas_openblas_201      conda-forge [blas_openblas]\n",
      "    pandas:       0.19.1-np110py35_0                 conda-forge --> 0.19.2-np111py35_1                 conda-forge\n",
      "    scikit-learn: 0.17.1-np110py35_blas_openblas_202 conda-forge [blas_openblas] --> 0.18-np111py35_blas_openblas_202   conda-forge [blas_openblas]\n",
      "    scipy:        0.17.1-np110py35_blas_openblas_204 conda-forge [blas_openblas] --> 0.18.1-np111py35_blas_openblas_200 conda-forge [blas_openblas]\n",
      "\n",
      "Fetching packages ...\n",
      "jemalloc-4.4.0 100% |################################| Time: 0:00:01   2.17 MB/s\n",
      "arrow-cpp-0.2. 100% |################################| Time: 0:00:02   3.13 MB/s\n",
      "parquet-cpp-1. 100% |################################| Time: 0:00:04   3.07 MB/s\n",
      "numpy-1.11.2-p 100% |################################| Time: 0:00:05   1.38 MB/s\n",
      "numexpr-2.6.2- 100% |################################| Time: 0:00:00   1.20 MB/s\n",
      "pandas-0.19.2- 100% |################################| Time: 0:00:25 832.68 kB/s\n",
      "scipy-0.18.1-n 100% |################################| Time: 0:00:35 946.89 kB/s\n",
      "pyarrow-0.2.po 100% |################################| Time: 0:00:06 641.23 kB/s\n",
      "scikit-learn-0 100% |################################| Time: 0:00:59 205.35 kB/s\n",
      "Extracting packages ...\n",
      "[      COMPLETE      ]|###################################################| 100%\n",
      "Unlinking packages ...\n",
      "[      COMPLETE      ]|###################################################| 100%\n",
      "Linking packages ...\n",
      "[      COMPLETE      ]|###################################################| 100%\n"
     ]
    }
   ],
   "source": [
    "!conda install  -y -c conda-forge pyarrow"
   ]
  },
  {
   "cell_type": "code",
   "execution_count": 3,
   "metadata": {
    "collapsed": true
   },
   "outputs": [],
   "source": [
    "import pyarrow.parquet as pq"
   ]
  },
  {
   "cell_type": "code",
   "execution_count": null,
   "metadata": {
    "collapsed": false
   },
   "outputs": [],
   "source": [
    "table = pq.read_table('t.parquet')\n",
    "table.schema"
   ]
  },
  {
   "cell_type": "code",
   "execution_count": 9,
   "metadata": {
    "collapsed": false
   },
   "outputs": [
    {
     "data": {
      "text/html": [
       "<div>\n",
       "<table border=\"1\" class=\"dataframe\">\n",
       "  <thead>\n",
       "    <tr style=\"text-align: right;\">\n",
       "      <th></th>\n",
       "      <th>hi</th>\n",
       "      <th>there</th>\n",
       "    </tr>\n",
       "  </thead>\n",
       "  <tbody>\n",
       "    <tr>\n",
       "      <th>0</th>\n",
       "      <td>12</td>\n",
       "      <td>[1, 2, 3]</td>\n",
       "    </tr>\n",
       "  </tbody>\n",
       "</table>\n",
       "</div>"
      ],
      "text/plain": [
       "   hi      there\n",
       "0  12  [1, 2, 3]"
      ]
     },
     "execution_count": 9,
     "metadata": {},
     "output_type": "execute_result"
    }
   ],
   "source": [
    "table.to_pandas()"
   ]
  },
  {
   "cell_type": "code",
   "execution_count": null,
   "metadata": {
    "collapsed": true
   },
   "outputs": [],
   "source": []
  }
 ],
 "metadata": {
  "kernelspec": {
   "display_name": "Python 3",
   "language": "python",
   "name": "python3"
  },
  "language_info": {
   "codemirror_mode": {
    "name": "ipython",
    "version": 3
   },
   "file_extension": ".py",
   "mimetype": "text/x-python",
   "name": "python",
   "nbconvert_exporter": "python",
   "pygments_lexer": "ipython3",
   "version": "3.5.2"
  }
 },
 "nbformat": 4,
 "nbformat_minor": 1
}
